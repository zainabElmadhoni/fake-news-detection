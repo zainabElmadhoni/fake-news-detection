{
  "nbformat": 4,
  "nbformat_minor": 0,
  "metadata": {
    "colab": {
      "name": "Part3. Deep Learning Methods (RNN-LSTM, CNN).ipynb",
      "provenance": [],
      "collapsed_sections": []
    },
    "kernelspec": {
      "name": "python3",
      "display_name": "Python 3"
    }
  },
  "cells": [
    {
      "cell_type": "markdown",
      "metadata": {
        "id": "PIbJ-fLESkOd"
      },
      "source": [
        "In this notebook I applied two of the best know Deep Learning Models LSTM and CNN. I wanted to see if they can outperform the Machine Learning Algoriths I used in the previous notebook"
      ]
    },
    {
      "cell_type": "code",
      "metadata": {
        "id": "7kV_htjQsasN"
      },
      "source": [
        "\n",
        "import pandas as pd\n",
        "import numpy as np\n",
        "from keras.preprocessing.text import Tokenizer\n",
        "from keras.preprocessing.sequence import pad_sequences\n",
        "from keras.models import Sequential\n",
        "from keras.layers import Dense, LSTM, Embedding,GRU\n",
        "from keras.preprocessing import sequence\n",
        "from keras.preprocessing import text\n",
        "from keras.layers import Dropout, Activation\n",
        "from keras.layers import Conv1D, Flatten\n",
        "from keras import metrics\n",
        "from keras.utils import to_categorical\n",
        "from keras.layers import GlobalMaxPooling1D, Input, MaxPooling1D\n",
        "from sklearn.metrics import classification_report,confusion_matrix, accuracy_score,precision_score, precision_recall_fscore_support\n",
        "\n",
        "\n",
        "MAX_WORDS_IN_SEQ = 1000\n",
        "EMBED_DIM = 100"
      ],
      "execution_count": null,
      "outputs": []
    },
    {
      "cell_type": "code",
      "metadata": {
        "id": "hTLJFcTNtdch",
        "colab": {
          "resources": {
            "http://localhost:8080/nbextensions/google.colab/files.js": {
              "data": "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",
              "ok": true,
              "headers": [
                [
                  "content-type",
                  "application/javascript"
                ]
              ],
              "status": 200,
              "status_text": ""
            }
          },
          "base_uri": "https://localhost:8080/",
          "height": 73
        },
        "outputId": "42b90958-0459-4fab-cfbd-4dd295201a4a"
      },
      "source": [
        "from google.colab import files\n",
        "uploaded = files.upload()"
      ],
      "execution_count": null,
      "outputs": [
        {
          "output_type": "display_data",
          "data": {
            "text/html": [
              "\n",
              "     <input type=\"file\" id=\"files-30000058-3b94-4a91-97c0-b1750c2fcb20\" name=\"files[]\" multiple disabled\n",
              "        style=\"border:none\" />\n",
              "     <output id=\"result-30000058-3b94-4a91-97c0-b1750c2fcb20\">\n",
              "      Upload widget is only available when the cell has been executed in the\n",
              "      current browser session. Please rerun this cell to enable.\n",
              "      </output>\n",
              "      <script src=\"/nbextensions/google.colab/files.js\"></script> "
            ],
            "text/plain": [
              "<IPython.core.display.HTML object>"
            ]
          },
          "metadata": {
            "tags": []
          }
        },
        {
          "output_type": "stream",
          "text": [
            "Saving twitter_data.pkl to twitter_data.pkl\n"
          ],
          "name": "stdout"
        }
      ]
    },
    {
      "cell_type": "code",
      "metadata": {
        "id": "iuIjZ1tZti4a",
        "colab": {
          "base_uri": "https://localhost:8080/",
          "height": 446
        },
        "outputId": "b38b84bb-ba56-436c-9709-06fd5d43e15a"
      },
      "source": [
        "df = pd.read_pickle(\"./twitter_data.pkl\")\n",
        "df.info()\n",
        "df.head()"
      ],
      "execution_count": null,
      "outputs": [
        {
          "output_type": "stream",
          "text": [
            "<class 'pandas.core.frame.DataFrame'>\n",
            "RangeIndex: 30000 entries, 0 to 29999\n",
            "Data columns (total 7 columns):\n",
            " #   Column    Non-Null Count  Dtype         \n",
            "---  ------    --------------  -----         \n",
            " 0   id        30000 non-null  int64         \n",
            " 1   text      30000 non-null  object        \n",
            " 2   date      30000 non-null  datetime64[ns]\n",
            " 3   source    30000 non-null  object        \n",
            " 4   likes     30000 non-null  int64         \n",
            " 5   retweets  30000 non-null  int64         \n",
            " 6   class     30000 non-null  int64         \n",
            "dtypes: datetime64[ns](1), int64(4), object(2)\n",
            "memory usage: 1.6+ MB\n"
          ],
          "name": "stdout"
        },
        {
          "output_type": "execute_result",
          "data": {
            "text/html": [
              "<div>\n",
              "<style scoped>\n",
              "    .dataframe tbody tr th:only-of-type {\n",
              "        vertical-align: middle;\n",
              "    }\n",
              "\n",
              "    .dataframe tbody tr th {\n",
              "        vertical-align: top;\n",
              "    }\n",
              "\n",
              "    .dataframe thead th {\n",
              "        text-align: right;\n",
              "    }\n",
              "</style>\n",
              "<table border=\"1\" class=\"dataframe\">\n",
              "  <thead>\n",
              "    <tr style=\"text-align: right;\">\n",
              "      <th></th>\n",
              "      <th>id</th>\n",
              "      <th>text</th>\n",
              "      <th>date</th>\n",
              "      <th>source</th>\n",
              "      <th>likes</th>\n",
              "      <th>retweets</th>\n",
              "      <th>class</th>\n",
              "    </tr>\n",
              "  </thead>\n",
              "  <tbody>\n",
              "    <tr>\n",
              "      <th>0</th>\n",
              "      <td>1288573860627877888</td>\n",
              "      <td>A medical group is warning that without action...</td>\n",
              "      <td>2020-07-29 20:35:23</td>\n",
              "      <td>TweetDeck</td>\n",
              "      <td>23</td>\n",
              "      <td>14</td>\n",
              "      <td>0</td>\n",
              "    </tr>\n",
              "    <tr>\n",
              "      <th>1</th>\n",
              "      <td>1288572426771554305</td>\n",
              "      <td>Covid-19 is now one of the leading causes of d...</td>\n",
              "      <td>2020-07-29 20:29:41</td>\n",
              "      <td>TweetDeck</td>\n",
              "      <td>91</td>\n",
              "      <td>47</td>\n",
              "      <td>0</td>\n",
              "    </tr>\n",
              "    <tr>\n",
              "      <th>2</th>\n",
              "      <td>1288570544481345538</td>\n",
              "      <td>JUST IN: More than 150,000 people have died in...</td>\n",
              "      <td>2020-07-29 20:22:12</td>\n",
              "      <td>SocialFlow</td>\n",
              "      <td>242</td>\n",
              "      <td>145</td>\n",
              "      <td>0</td>\n",
              "    </tr>\n",
              "    <tr>\n",
              "      <th>3</th>\n",
              "      <td>1288566498995380232</td>\n",
              "      <td>This woman went to the hospital after breaking...</td>\n",
              "      <td>2020-07-29 20:06:08</td>\n",
              "      <td>SocialFlow</td>\n",
              "      <td>379</td>\n",
              "      <td>63</td>\n",
              "      <td>0</td>\n",
              "    </tr>\n",
              "    <tr>\n",
              "      <th>4</th>\n",
              "      <td>1288562923904724992</td>\n",
              "      <td>President Trump’s tweet on dismantling an Obam...</td>\n",
              "      <td>2020-07-29 19:51:56</td>\n",
              "      <td>Twitter Media Studio</td>\n",
              "      <td>473</td>\n",
              "      <td>164</td>\n",
              "      <td>0</td>\n",
              "    </tr>\n",
              "  </tbody>\n",
              "</table>\n",
              "</div>"
            ],
            "text/plain": [
              "                    id  ... class\n",
              "0  1288573860627877888  ...     0\n",
              "1  1288572426771554305  ...     0\n",
              "2  1288570544481345538  ...     0\n",
              "3  1288566498995380232  ...     0\n",
              "4  1288562923904724992  ...     0\n",
              "\n",
              "[5 rows x 7 columns]"
            ]
          },
          "metadata": {
            "tags": []
          },
          "execution_count": 3
        }
      ]
    },
    {
      "cell_type": "markdown",
      "metadata": {
        "id": "bYwFtenNIECd"
      },
      "source": [
        "Here I did the same thing as the previous notebook. I seperated the tweets related to the corona virus from the other tweets. In order to test the models on them while training it on the general tweets. "
      ]
    },
    {
      "cell_type": "code",
      "metadata": {
        "id": "5y1hHpqEtn4U",
        "colab": {
          "base_uri": "https://localhost:8080/",
          "height": 514
        },
        "outputId": "abbabd5e-86e7-4e3d-de57-d9cc3b4807be"
      },
      "source": [
        "corona_tweets = list()\n",
        "for i in range(0, len(df)):\n",
        "    t=df['text'][i]\n",
        "    t=t.lower()\n",
        "    if t.find('corona')!=-1 or t.find('covid')!=-1: \n",
        "        corona_tweets.append([df['id'][i],\n",
        "                         df['text'][i],\n",
        "                         df['date'][i],\n",
        "                         df['source'][i],\n",
        "                         df['likes'][i],\n",
        "                         df['retweets'][i],\n",
        "                         df['class'][i]\n",
        "                         ])\n",
        "        df=df.drop(i)\n",
        "df.reset_index(drop=True,inplace=True)\n",
        "df_ct= pd.DataFrame(corona_tweets,columns = ['id' , 'text', 'date','source','likes','retweets','class'])\n",
        "df_ct.info()   \n",
        "df.info()"
      ],
      "execution_count": null,
      "outputs": [
        {
          "output_type": "stream",
          "text": [
            "<class 'pandas.core.frame.DataFrame'>\n",
            "RangeIndex: 3949 entries, 0 to 3948\n",
            "Data columns (total 7 columns):\n",
            " #   Column    Non-Null Count  Dtype         \n",
            "---  ------    --------------  -----         \n",
            " 0   id        3949 non-null   int64         \n",
            " 1   text      3949 non-null   object        \n",
            " 2   date      3949 non-null   datetime64[ns]\n",
            " 3   source    3949 non-null   object        \n",
            " 4   likes     3949 non-null   int64         \n",
            " 5   retweets  3949 non-null   int64         \n",
            " 6   class     3949 non-null   int64         \n",
            "dtypes: datetime64[ns](1), int64(4), object(2)\n",
            "memory usage: 216.1+ KB\n",
            "<class 'pandas.core.frame.DataFrame'>\n",
            "RangeIndex: 26051 entries, 0 to 26050\n",
            "Data columns (total 7 columns):\n",
            " #   Column    Non-Null Count  Dtype         \n",
            "---  ------    --------------  -----         \n",
            " 0   id        26051 non-null  int64         \n",
            " 1   text      26051 non-null  object        \n",
            " 2   date      26051 non-null  datetime64[ns]\n",
            " 3   source    26051 non-null  object        \n",
            " 4   likes     26051 non-null  int64         \n",
            " 5   retweets  26051 non-null  int64         \n",
            " 6   class     26051 non-null  int64         \n",
            "dtypes: datetime64[ns](1), int64(4), object(2)\n",
            "memory usage: 1.4+ MB\n"
          ],
          "name": "stdout"
        }
      ]
    },
    {
      "cell_type": "code",
      "metadata": {
        "id": "OFXsKF9utwLv"
      },
      "source": [
        "#Shuffling the Data\n",
        "df = df.sample(frac=1).reset_index(drop=True)\n",
        "df_ct = df_ct.sample(frac=1).reset_index(drop=True)\n"
      ],
      "execution_count": null,
      "outputs": []
    },
    {
      "cell_type": "code",
      "metadata": {
        "id": "L9gRexvZtyTL"
      },
      "source": [
        "y_train = df['class'].values\n",
        "y_test = df_ct['class'].values\n"
      ],
      "execution_count": null,
      "outputs": []
    },
    {
      "cell_type": "code",
      "metadata": {
        "id": "Se377CZ5uTrf"
      },
      "source": [
        "X_train = df['text'].values\n",
        "X_test = df_ct['text'].values"
      ],
      "execution_count": null,
      "outputs": []
    },
    {
      "cell_type": "code",
      "metadata": {
        "id": "FsJnUUv0unvl"
      },
      "source": [
        "#This class allows to vectorize a text corpus, by turning each text into a sequence of integers \n",
        "tokenizer = Tokenizer()\n",
        "tokenizer.fit_on_texts(X_train)"
      ],
      "execution_count": null,
      "outputs": []
    },
    {
      "cell_type": "code",
      "metadata": {
        "id": "waBk7-gCuyKy"
      },
      "source": [
        "X_train_seq = tokenizer.texts_to_sequences(X_train)\n",
        "X_test_seq = tokenizer.texts_to_sequences(X_test)"
      ],
      "execution_count": null,
      "outputs": []
    },
    {
      "cell_type": "code",
      "metadata": {
        "id": "3rnqeFlZvlWe"
      },
      "source": [
        "#This function transforms a list of sequences into a 2D Numpy array of shape \n",
        "X_train_pad = pad_sequences(X_train_seq, maxlen=20, padding='post')\n",
        "X_test_pad = pad_sequences(X_test_seq, maxlen=20, padding='post')\n"
      ],
      "execution_count": null,
      "outputs": []
    },
    {
      "cell_type": "code",
      "metadata": {
        "id": "fI3ZVqKkvueM",
        "colab": {
          "base_uri": "https://localhost:8080/",
          "height": 336
        },
        "outputId": "d33e59f5-d3a5-4d3b-88a9-9bacd222cdf8"
      },
      "source": [
        "laenge_pads = 20\n",
        "anz_woerter = 7982\n",
        "\n",
        "lstm_model = Sequential()\n",
        "lstm_model.add(Embedding(input_dim=64551, output_dim=20, input_length=laenge_pads))\n",
        "lstm_model.add(Dropout(0.8))\n",
        "lstm_model.add(LSTM(400))\n",
        "lstm_model.add(Dropout(0.86))\n",
        "lstm_model.add(Dense(1, activation='sigmoid'))\n",
        "\n",
        "lstm_model.compile(loss='binary_crossentropy', optimizer='adam', metrics=['accuracy'])\n",
        "lstm_model.summary()"
      ],
      "execution_count": null,
      "outputs": [
        {
          "output_type": "stream",
          "text": [
            "Model: \"sequential\"\n",
            "_________________________________________________________________\n",
            "Layer (type)                 Output Shape              Param #   \n",
            "=================================================================\n",
            "embedding (Embedding)        (None, 20, 20)            1291020   \n",
            "_________________________________________________________________\n",
            "dropout (Dropout)            (None, 20, 20)            0         \n",
            "_________________________________________________________________\n",
            "lstm (LSTM)                  (None, 400)               673600    \n",
            "_________________________________________________________________\n",
            "dropout_1 (Dropout)          (None, 400)               0         \n",
            "_________________________________________________________________\n",
            "dense (Dense)                (None, 1)                 401       \n",
            "=================================================================\n",
            "Total params: 1,965,021\n",
            "Trainable params: 1,965,021\n",
            "Non-trainable params: 0\n",
            "_________________________________________________________________\n"
          ],
          "name": "stdout"
        }
      ]
    },
    {
      "cell_type": "code",
      "metadata": {
        "id": "48ZrmQ8Vvx-n",
        "colab": {
          "base_uri": "https://localhost:8080/",
          "height": 372
        },
        "outputId": "906ec3e2-0f3d-45a4-8305-eddb29007680"
      },
      "source": [
        "history_lstm = lstm_model.fit(X_train_pad, y_train, epochs=10, batch_size=64, \n",
        "                        validation_data=(X_test_pad, y_test))"
      ],
      "execution_count": null,
      "outputs": [
        {
          "output_type": "stream",
          "text": [
            "Epoch 1/10\n",
            "408/408 [==============================] - 79s 193ms/step - loss: 0.4913 - accuracy: 0.7574 - val_loss: 0.3074 - val_accuracy: 0.8888\n",
            "Epoch 2/10\n",
            "408/408 [==============================] - 78s 191ms/step - loss: 0.3061 - accuracy: 0.8765 - val_loss: 0.2592 - val_accuracy: 0.8939\n",
            "Epoch 3/10\n",
            "408/408 [==============================] - 79s 194ms/step - loss: 0.2316 - accuracy: 0.9122 - val_loss: 0.2049 - val_accuracy: 0.9250\n",
            "Epoch 4/10\n",
            "408/408 [==============================] - 78s 191ms/step - loss: 0.1859 - accuracy: 0.9318 - val_loss: 0.2187 - val_accuracy: 0.9162\n",
            "Epoch 5/10\n",
            "408/408 [==============================] - 80s 196ms/step - loss: 0.1402 - accuracy: 0.9487 - val_loss: 0.2011 - val_accuracy: 0.9385\n",
            "Epoch 6/10\n",
            "408/408 [==============================] - 78s 192ms/step - loss: 0.1109 - accuracy: 0.9607 - val_loss: 0.2294 - val_accuracy: 0.9331\n",
            "Epoch 7/10\n",
            "408/408 [==============================] - 79s 193ms/step - loss: 0.0880 - accuracy: 0.9701 - val_loss: 0.2805 - val_accuracy: 0.9071\n",
            "Epoch 8/10\n",
            "408/408 [==============================] - 78s 191ms/step - loss: 0.0735 - accuracy: 0.9736 - val_loss: 0.2239 - val_accuracy: 0.9268\n",
            "Epoch 9/10\n",
            "408/408 [==============================] - 80s 197ms/step - loss: 0.0587 - accuracy: 0.9802 - val_loss: 0.1911 - val_accuracy: 0.9334\n",
            "Epoch 10/10\n",
            "408/408 [==============================] - 79s 193ms/step - loss: 0.0457 - accuracy: 0.9852 - val_loss: 0.2030 - val_accuracy: 0.9210\n"
          ],
          "name": "stdout"
        }
      ]
    },
    {
      "cell_type": "code",
      "metadata": {
        "id": "NrPdreFbAQvn",
        "colab": {
          "base_uri": "https://localhost:8080/",
          "height": 52
        },
        "outputId": "b3ed50a1-f232-450e-e770-f4533330dd7b"
      },
      "source": [
        "acc = lstm_model.evaluate(X_test_pad, y_test)\n",
        "print(\"Test loss is {0:.2f} accuracy is {1:.2f} \".format(acc[0],acc[1]))"
      ],
      "execution_count": null,
      "outputs": [
        {
          "output_type": "stream",
          "text": [
            "124/124 [==============================] - 4s 30ms/step - loss: 0.2030 - accuracy: 0.9210\n",
            "Test loss is 0.20 accuracy is 0.92 \n"
          ],
          "name": "stdout"
        }
      ]
    },
    {
      "cell_type": "code",
      "metadata": {
        "id": "7Wfd-7ARRrUO"
      },
      "source": [
        "pred= lstm_model.predict(X_test_pad)\n",
        "for i in range(0, len(pred)):\n",
        "  if pred[i][0] >= 0.5:\n",
        "    pred[i][0]=1\n",
        "  if pred[i][0]<0.5:\n",
        "    pred[i][0]=0\n"
      ],
      "execution_count": null,
      "outputs": []
    },
    {
      "cell_type": "code",
      "metadata": {
        "id": "uMHYwUtBF1Pz",
        "colab": {
          "base_uri": "https://localhost:8080/",
          "height": 283
        },
        "outputId": "0a2052cf-13bb-4126-b365-eca5a2c45efb"
      },
      "source": [
        "print(classification_report(y_test,pred))\n",
        "precision =precision_score(y_test, pred, average='binary')\n",
        "print()\n",
        "print('Confusion Matrix: \\n',confusion_matrix(y_test,pred))\n",
        "print()\n",
        "print(\"Overall Precision, Recall, F1-score :\",precision_recall_fscore_support(y_test, pred, average='weighted'))\n"
      ],
      "execution_count": null,
      "outputs": [
        {
          "output_type": "stream",
          "text": [
            "              precision    recall  f1-score   support\n",
            "\n",
            "           0       0.98      0.93      0.95      3434\n",
            "           1       0.64      0.89      0.75       515\n",
            "\n",
            "    accuracy                           0.92      3949\n",
            "   macro avg       0.81      0.91      0.85      3949\n",
            "weighted avg       0.94      0.92      0.93      3949\n",
            "\n",
            "\n",
            "Confusion Matrix: \n",
            " [[3177  257]\n",
            " [  55  460]]\n",
            "\n",
            "Overall Precision, Recall, F1-score : (0.9384570683819818, 0.920992656368701, 0.9262726384782601, None)\n"
          ],
          "name": "stdout"
        }
      ]
    },
    {
      "cell_type": "code",
      "metadata": {
        "id": "xpV9QJkV3pBU",
        "colab": {
          "base_uri": "https://localhost:8080/",
          "height": 336
        },
        "outputId": "5faa084e-ddfd-464f-e4c4-9ee0e3652334"
      },
      "source": [
        "gru1 = Sequential()\n",
        "gru1.add(Embedding(input_dim=64551, output_dim=20, input_length=laenge_pads))\n",
        "gru1.add(Dropout(0.8))\n",
        "gru1.add(GRU(140, return_sequences=False))\n",
        "gru1.add(Dropout(0.86))\n",
        "gru1.add(Dense(1, activation='sigmoid', name='Classification'))\n",
        "gru1.summary()\n",
        "\n",
        "gru1.compile(optimizer='adam', loss='binary_crossentropy', metrics=['accuracy'])\n"
      ],
      "execution_count": null,
      "outputs": [
        {
          "output_type": "stream",
          "text": [
            "Model: \"sequential_1\"\n",
            "_________________________________________________________________\n",
            "Layer (type)                 Output Shape              Param #   \n",
            "=================================================================\n",
            "embedding_1 (Embedding)      (None, 20, 20)            1291020   \n",
            "_________________________________________________________________\n",
            "dropout_2 (Dropout)          (None, 20, 20)            0         \n",
            "_________________________________________________________________\n",
            "gru (GRU)                    (None, 140)               68040     \n",
            "_________________________________________________________________\n",
            "dropout_3 (Dropout)          (None, 140)               0         \n",
            "_________________________________________________________________\n",
            "Classification (Dense)       (None, 1)                 141       \n",
            "=================================================================\n",
            "Total params: 1,359,201\n",
            "Trainable params: 1,359,201\n",
            "Non-trainable params: 0\n",
            "_________________________________________________________________\n"
          ],
          "name": "stdout"
        }
      ]
    },
    {
      "cell_type": "code",
      "metadata": {
        "id": "dC_HTzys4D90",
        "colab": {
          "base_uri": "https://localhost:8080/",
          "height": 372
        },
        "outputId": "ce57111f-c87b-47f1-e83a-b4ba379e192d"
      },
      "source": [
        "history_gru = gru1.fit(X_train_pad, y_train, epochs=10, batch_size=64, validation_data=(X_test_pad, y_test))"
      ],
      "execution_count": null,
      "outputs": [
        {
          "output_type": "stream",
          "text": [
            "Epoch 1/10\n",
            "408/408 [==============================] - 21s 51ms/step - loss: 0.5133 - accuracy: 0.7325 - val_loss: 0.2453 - val_accuracy: 0.9101\n",
            "Epoch 2/10\n",
            "408/408 [==============================] - 21s 50ms/step - loss: 0.2966 - accuracy: 0.8791 - val_loss: 0.2248 - val_accuracy: 0.9263\n",
            "Epoch 3/10\n",
            "408/408 [==============================] - 21s 50ms/step - loss: 0.2241 - accuracy: 0.9147 - val_loss: 0.2201 - val_accuracy: 0.9174\n",
            "Epoch 4/10\n",
            "408/408 [==============================] - 21s 51ms/step - loss: 0.1793 - accuracy: 0.9333 - val_loss: 0.2300 - val_accuracy: 0.9180\n",
            "Epoch 5/10\n",
            "408/408 [==============================] - 21s 51ms/step - loss: 0.1397 - accuracy: 0.9512 - val_loss: 0.3261 - val_accuracy: 0.8863\n",
            "Epoch 6/10\n",
            "408/408 [==============================] - 21s 50ms/step - loss: 0.1063 - accuracy: 0.9611 - val_loss: 0.3125 - val_accuracy: 0.8979\n",
            "Epoch 7/10\n",
            "408/408 [==============================] - 21s 51ms/step - loss: 0.0855 - accuracy: 0.9711 - val_loss: 0.2145 - val_accuracy: 0.9369\n",
            "Epoch 8/10\n",
            "408/408 [==============================] - 21s 51ms/step - loss: 0.0690 - accuracy: 0.9764 - val_loss: 0.3337 - val_accuracy: 0.8835\n",
            "Epoch 9/10\n",
            "408/408 [==============================] - 21s 51ms/step - loss: 0.0526 - accuracy: 0.9822 - val_loss: 0.2696 - val_accuracy: 0.9218\n",
            "Epoch 10/10\n",
            "408/408 [==============================] - 21s 51ms/step - loss: 0.0417 - accuracy: 0.9862 - val_loss: 0.2797 - val_accuracy: 0.9154\n"
          ],
          "name": "stdout"
        }
      ]
    },
    {
      "cell_type": "code",
      "metadata": {
        "id": "yx9ggRbg5KMO",
        "colab": {
          "base_uri": "https://localhost:8080/",
          "height": 52
        },
        "outputId": "d91910df-c6ee-4c81-a101-f610db921417"
      },
      "source": [
        "acc = gru1.evaluate(X_test_pad, y_test)\n",
        "print(\"Test loss is {0:.2f} accuracy is {1:.2f} \".format(acc[0],acc[1]))"
      ],
      "execution_count": null,
      "outputs": [
        {
          "output_type": "stream",
          "text": [
            "124/124 [==============================] - 1s 5ms/step - loss: 0.2797 - accuracy: 0.9154\n",
            "Test loss is 0.28 accuracy is 0.92 \n"
          ],
          "name": "stdout"
        }
      ]
    },
    {
      "cell_type": "code",
      "metadata": {
        "id": "hbC4PmU2TzsG"
      },
      "source": [
        "pred= gru1.predict(X_test_pad)\n",
        "for i in range(0, len(pred)):\n",
        "  if pred[i][0] >= 0.5:\n",
        "    pred[i][0]=1\n",
        "  if pred[i][0]<0.5:\n",
        "    pred[i][0]=0"
      ],
      "execution_count": null,
      "outputs": []
    },
    {
      "cell_type": "code",
      "metadata": {
        "id": "NIuD7nnKT_le",
        "colab": {
          "base_uri": "https://localhost:8080/",
          "height": 283
        },
        "outputId": "25c80a98-3e79-4f0e-c8df-d72057addf37"
      },
      "source": [
        "print(classification_report(y_test,pred))\n",
        "precision =precision_score(y_test, pred, average='binary')\n",
        "print()\n",
        "print('Confusion Matrix: \\n',confusion_matrix(y_test,pred))\n",
        "print()\n",
        "print(\"Overall Precision, Recall, F1-score :\",precision_recall_fscore_support(y_test, pred, average='weighted'))\n"
      ],
      "execution_count": null,
      "outputs": [
        {
          "output_type": "stream",
          "text": [
            "              precision    recall  f1-score   support\n",
            "\n",
            "           0       0.98      0.92      0.95      3434\n",
            "           1       0.62      0.89      0.73       515\n",
            "\n",
            "    accuracy                           0.92      3949\n",
            "   macro avg       0.80      0.90      0.84      3949\n",
            "weighted avg       0.93      0.92      0.92      3949\n",
            "\n",
            "\n",
            "Confusion Matrix: \n",
            " [[3159  275]\n",
            " [  59  456]]\n",
            "\n",
            "Overall Precision, Recall, F1-score : (0.9349957777133822, 0.9154216257280324, 0.9213794658810971, None)\n"
          ],
          "name": "stdout"
        }
      ]
    },
    {
      "cell_type": "markdown",
      "metadata": {
        "id": "xsg3k7gdPPSi"
      },
      "source": [
        "As you can see, applying LSTM gave a test accuracy of 92%.<br>\n",
        "Next I will apply CNN to see if it can give us a better accuracy"
      ]
    },
    {
      "cell_type": "code",
      "metadata": {
        "id": "ar3BXLjN5Stg",
        "colab": {
          "base_uri": "https://localhost:8080/",
          "height": 372
        },
        "outputId": "34ff1c77-884b-47ed-cff8-f5281a89c425"
      },
      "source": [
        "cnn_model = Sequential()\n",
        "    # we start off with an efficient embedding layer which maps\n",
        "    # our vocab indices into embedding_dims dimensions\n",
        "    # 1000 is num_max\n",
        "cnn_model.add(Embedding(64551, 100, input_length=1000))\n",
        "cnn_model.add(Dropout(0.2))\n",
        "cnn_model.add(Conv1D(64,\n",
        "                     3,\n",
        "                     padding='valid',\n",
        "                     activation='relu',\n",
        "                     strides=1))\n",
        "cnn_model.add(GlobalMaxPooling1D())\n",
        "cnn_model.add(Dense(1))\n",
        "cnn_model.add(Activation('sigmoid'))\n",
        "cnn_model.summary()\n",
        "cnn_model.compile(loss='binary_crossentropy',\n",
        "                  optimizer='adam',\n",
        "                  metrics=['acc'])"
      ],
      "execution_count": null,
      "outputs": [
        {
          "output_type": "stream",
          "text": [
            "Model: \"sequential_2\"\n",
            "_________________________________________________________________\n",
            "Layer (type)                 Output Shape              Param #   \n",
            "=================================================================\n",
            "embedding_2 (Embedding)      (None, 1000, 100)         6455100   \n",
            "_________________________________________________________________\n",
            "dropout_4 (Dropout)          (None, 1000, 100)         0         \n",
            "_________________________________________________________________\n",
            "conv1d (Conv1D)              (None, 998, 64)           19264     \n",
            "_________________________________________________________________\n",
            "global_max_pooling1d (Global (None, 64)                0         \n",
            "_________________________________________________________________\n",
            "dense_1 (Dense)              (None, 1)                 65        \n",
            "_________________________________________________________________\n",
            "activation (Activation)      (None, 1)                 0         \n",
            "=================================================================\n",
            "Total params: 6,474,429\n",
            "Trainable params: 6,474,429\n",
            "Non-trainable params: 0\n",
            "_________________________________________________________________\n"
          ],
          "name": "stdout"
        }
      ]
    },
    {
      "cell_type": "code",
      "metadata": {
        "id": "tB8iUE-GO7ds"
      },
      "source": [
        "X_train_pad = pad_sequences(X_train_seq, maxlen=1000, padding='post')\n",
        "X_test_pad = pad_sequences(X_test_seq, maxlen=1000, padding='post')\n"
      ],
      "execution_count": null,
      "outputs": []
    },
    {
      "cell_type": "code",
      "metadata": {
        "id": "rwc3pKpgOthc",
        "colab": {
          "base_uri": "https://localhost:8080/",
          "height": 372
        },
        "outputId": "14fcd2c9-7e54-4722-b7d0-9cf0efe3e8fe"
      },
      "source": [
        "history_cnn = cnn_model.fit(X_train_pad,\n",
        "    y_train,\n",
        "    batch_size=64,\n",
        "    epochs=10,\n",
        "    validation_data=(X_test_pad, y_test))"
      ],
      "execution_count": null,
      "outputs": [
        {
          "output_type": "stream",
          "text": [
            "Epoch 1/10\n",
            "408/408 [==============================] - 141s 346ms/step - loss: 0.3707 - acc: 0.8239 - val_loss: 0.2298 - val_acc: 0.9025\n",
            "Epoch 2/10\n",
            "408/408 [==============================] - 142s 347ms/step - loss: 0.0888 - acc: 0.9692 - val_loss: 0.2566 - val_acc: 0.9061\n",
            "Epoch 3/10\n",
            "408/408 [==============================] - 141s 346ms/step - loss: 0.0145 - acc: 0.9966 - val_loss: 0.2799 - val_acc: 0.9035\n",
            "Epoch 4/10\n",
            "408/408 [==============================] - 143s 352ms/step - loss: 0.0019 - acc: 0.9999 - val_loss: 0.2643 - val_acc: 0.9071\n",
            "Epoch 5/10\n",
            "408/408 [==============================] - 140s 344ms/step - loss: 5.8305e-04 - acc: 1.0000 - val_loss: 0.2905 - val_acc: 0.9025\n",
            "Epoch 6/10\n",
            "408/408 [==============================] - 142s 348ms/step - loss: 2.9348e-04 - acc: 1.0000 - val_loss: 0.2953 - val_acc: 0.9007\n",
            "Epoch 7/10\n",
            "408/408 [==============================] - 143s 351ms/step - loss: 1.6775e-04 - acc: 1.0000 - val_loss: 0.2993 - val_acc: 0.9002\n",
            "Epoch 8/10\n",
            "408/408 [==============================] - 146s 358ms/step - loss: 1.0710e-04 - acc: 1.0000 - val_loss: 0.3065 - val_acc: 0.8974\n",
            "Epoch 9/10\n",
            "408/408 [==============================] - 149s 365ms/step - loss: 7.1875e-05 - acc: 1.0000 - val_loss: 0.3074 - val_acc: 0.8967\n",
            "Epoch 10/10\n",
            "408/408 [==============================] - 143s 350ms/step - loss: 5.1395e-05 - acc: 1.0000 - val_loss: 0.3141 - val_acc: 0.8947\n"
          ],
          "name": "stdout"
        }
      ]
    },
    {
      "cell_type": "code",
      "metadata": {
        "id": "JS8ALUuI-Pbb",
        "colab": {
          "base_uri": "https://localhost:8080/",
          "height": 52
        },
        "outputId": "083dcec6-99e7-49de-e46b-2e679c478e92"
      },
      "source": [
        "acc = cnn_model.evaluate(X_test_pad, y_test)\n",
        "print(\"Test loss is {0:.2f} accuracy is {1:.2f} \".format(acc[0],acc[1]))"
      ],
      "execution_count": null,
      "outputs": [
        {
          "output_type": "stream",
          "text": [
            "124/124 [==============================] - 3s 27ms/step - loss: 0.3141 - acc: 0.8947\n",
            "Test loss is 0.31 accuracy is 0.89 \n"
          ],
          "name": "stdout"
        }
      ]
    },
    {
      "cell_type": "code",
      "metadata": {
        "id": "CKLzSSd8UEQp"
      },
      "source": [
        "pred= cnn_model.predict(X_test_pad)\n",
        "for i in range(0, len(pred)):\n",
        "  if pred[i][0] >= 0.5:\n",
        "    pred[i][0]=1\n",
        "  if pred[i][0]<0.5:\n",
        "    pred[i][0]=0"
      ],
      "execution_count": null,
      "outputs": []
    },
    {
      "cell_type": "code",
      "metadata": {
        "id": "rkZCswcAUIUV",
        "colab": {
          "base_uri": "https://localhost:8080/",
          "height": 283
        },
        "outputId": "cfd81f2f-f6be-43b0-c2ae-d43927fd1a5c"
      },
      "source": [
        "print(classification_report(y_test,pred))\n",
        "precision =precision_score(y_test, pred, average='binary')\n",
        "print()\n",
        "print('Confusion Matrix: \\n',confusion_matrix(y_test,pred))\n",
        "print()\n",
        "print(\"Overall Precision, Recall, F1-score :\",precision_recall_fscore_support(y_test, pred, average='weighted'))\n"
      ],
      "execution_count": null,
      "outputs": [
        {
          "output_type": "stream",
          "text": [
            "              precision    recall  f1-score   support\n",
            "\n",
            "           0       0.98      0.90      0.94      3434\n",
            "           1       0.56      0.89      0.69       515\n",
            "\n",
            "    accuracy                           0.89      3949\n",
            "   macro avg       0.77      0.89      0.81      3949\n",
            "weighted avg       0.93      0.89      0.90      3949\n",
            "\n",
            "\n",
            "Confusion Matrix: \n",
            " [[3076  358]\n",
            " [  58  457]]\n",
            "\n",
            "Overall Precision, Recall, F1-score : (0.9266212030624716, 0.8946568751582679, 0.9041318521700897, None)\n"
          ],
          "name": "stdout"
        }
      ]
    },
    {
      "cell_type": "code",
      "metadata": {
        "id": "8bO0vgBHeKH2"
      },
      "source": [
        ""
      ],
      "execution_count": null,
      "outputs": []
    }
  ]
}